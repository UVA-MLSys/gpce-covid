{
  "cells": [
    {
      "cell_type": "markdown",
      "metadata": {
        "id": "LopEAYzbELVA"
      },
      "source": [
        "# Imports"
      ]
    },
    {
      "cell_type": "code",
      "execution_count": null,
      "metadata": {
        "id": "j724k07rELVB"
      },
      "outputs": [],
      "source": [
        "import pandas as pd\n",
        "# disable chained assignments\n",
        "pd.options.mode.chained_assignment = None \n",
        "import os, gc\n",
        "\n",
        "import tensorflow as tf\n",
        "from tensorflow.keras.callbacks import EarlyStopping, ModelCheckpoint\n",
        "from datetime import datetime\n",
        "\n",
        "from models import *\n",
        "from plotter import *\n",
        "from utils import *\n",
        "from splits import *\n",
        "from best_config import *\n",
        "\n",
        "SEED = 7\n",
        "tf.random.set_seed(SEED)\n",
        "SHOW_IMAGE = False\n",
        "VERBOSE = 1\n",
        "Split = Baseline"
      ]
    },
    {
      "cell_type": "markdown",
      "metadata": {},
      "source": [
        "## Result folder"
      ]
    },
    {
      "cell_type": "code",
      "execution_count": null,
      "metadata": {},
      "outputs": [],
      "source": [
        "output_folder = 'scratch/top_100'\n",
        "if not os.path.exists(output_folder):\n",
        "    os.makedirs(output_folder, exist_ok=True)"
      ]
    },
    {
      "cell_type": "markdown",
      "metadata": {
        "id": "emlXwxlMELVB"
      },
      "source": [
        "# Preprocessing"
      ]
    },
    {
      "cell_type": "code",
      "execution_count": null,
      "metadata": {
        "colab": {
          "base_uri": "https://localhost:8080/",
          "height": 206
        },
        "id": "s4ZnvkkJELVC",
        "outputId": "b7d0c71d-75d6-4308-ee80-89e029d2f68d"
      },
      "outputs": [],
      "source": [
        "df = pd.read_csv('../TFT-pytorch/2022_May_cleaned/Top_100.csv')\n",
        "df['Date'] = pd.to_datetime(df['Date'])\n",
        "print(df.head(3))"
      ]
    },
    {
      "cell_type": "markdown",
      "metadata": {},
      "source": [
        "## Config"
      ]
    },
    {
      "cell_type": "code",
      "execution_count": null,
      "metadata": {},
      "outputs": [],
      "source": [
        "@dataclass\n",
        "class Config:\n",
        "    static_features = ['AgeDist', 'HealthDisp']\n",
        "    past_features = ['DiseaseSpread', 'Transmission', 'VaccinationFull', 'SocialDist']\n",
        "    known_future = ['SinWeekly', 'CosWeekly']\n",
        "    time_index = 'TimeFromStart' # note that this is an index feature commonly used by all timeseries models\n",
        "\n",
        "    features =  [time_index] + static_features + past_features + known_future\n",
        "    targets = ['Cases']\n",
        "    group_id = 'FIPS'\n",
        "    selected_columns = features + targets\n",
        "    input_sequence_length = 13\n",
        "    output_sequence_length = 15\n",
        "    buffer_size = 1000\n",
        "\n",
        "    early_stopping_patience = 5\n",
        "    loss = 'mse'\n",
        "    \n",
        "    epochs = 200\n",
        "    # batch_size = 64\n",
        "    # learning_rate = 1e-6\n",
        "\n",
        "    learning_rate = LstmConfig.learning_rate\n",
        "    batch_size = LstmConfig.batch_size\n",
        "\n",
        "targets = Config.targets\n",
        "group_id = Config.group_id\n",
        "input_sequence_length = Config.input_sequence_length\n",
        "output_sequence_length = Config.output_sequence_length"
      ]
    },
    {
      "cell_type": "markdown",
      "metadata": {
        "id": "5Gy6DE69ELVD"
      },
      "source": [
        "## Split and scale"
      ]
    },
    {
      "cell_type": "code",
      "execution_count": null,
      "metadata": {
        "colab": {
          "base_uri": "https://localhost:8080/"
        },
        "id": "wf0nwz_qELVD",
        "outputId": "23b9687e-e6fc-4867-eb5a-ea8412cf968d"
      },
      "outputs": [],
      "source": [
        "train_df, val_df, test_df = split_data(df, Split, input_sequence_length)\n",
        "train_df, val_df, test_df, feature_scaler, target_scaler = scale_data(\n",
        "    train_df, val_df, test_df, Config.features, targets\n",
        ")"
      ]
    },
    {
      "cell_type": "code",
      "execution_count": null,
      "metadata": {},
      "outputs": [],
      "source": [
        "test_df['Date'].min(), test_df['Date'].max()"
      ]
    },
    {
      "cell_type": "markdown",
      "metadata": {
        "id": "Xy_Jq3uSELVE"
      },
      "source": [
        "## Window generator"
      ]
    },
    {
      "cell_type": "code",
      "execution_count": null,
      "metadata": {
        "colab": {
          "base_uri": "https://localhost:8080/"
        },
        "id": "v_AYybFIELVE",
        "outputId": "8aa42b3c-460b-4517-ec36-85577287c291"
      },
      "outputs": [],
      "source": [
        "x_train, y_train = prepare_dataset(\n",
        "    train_df, Config, disable_progress_bar=(VERBOSE!=1)\n",
        ")\n",
        "x_val, y_val = prepare_dataset(\n",
        "    val_df, Config, disable_progress_bar=(VERBOSE!=1)\n",
        ")\n",
        "x_test, y_test = prepare_dataset(\n",
        "    test_df, Config, disable_progress_bar=(VERBOSE!=1)\n",
        ")"
      ]
    },
    {
      "cell_type": "markdown",
      "metadata": {
        "id": "sHY_6InLELVE"
      },
      "source": [
        "## Tensors"
      ]
    },
    {
      "cell_type": "code",
      "execution_count": null,
      "metadata": {
        "id": "jl7NGbFBELVF"
      },
      "outputs": [],
      "source": [
        "train_data = cache_data(\n",
        "    x_train, y_train, batch_size=Config.batch_size, \n",
        "    buffer_size=Config.buffer_size\n",
        ")\n",
        "val_data = cache_data(\n",
        "    x_val, y_val, batch_size=Config.batch_size, \n",
        ")\n",
        "test_data = cache_data(\n",
        "    x_test, y_test, batch_size=Config.batch_size, \n",
        ")"
      ]
    },
    {
      "cell_type": "markdown",
      "metadata": {
        "id": "c7Im3Z1QELVF"
      },
      "source": [
        "# Training"
      ]
    },
    {
      "cell_type": "markdown",
      "metadata": {
        "id": "vOHTAa2eELVF"
      },
      "source": [
        "## Model"
      ]
    },
    {
      "cell_type": "code",
      "execution_count": null,
      "metadata": {},
      "outputs": [],
      "source": [
        "output_size = len(targets) * output_sequence_length\n",
        "model = build_LSTM(\n",
        "    input_shape=x_train.shape[1:], output_size=output_size, loss=Config.loss, \n",
        "    learning_rate=Config.learning_rate,\n",
        "    hidden_size=LstmConfig.hidden_size, dropout=LstmConfig.dropout, \n",
        "    layers=LstmConfig.layers\n",
        ")\n",
        "early_stopping = EarlyStopping(\n",
        "    patience = Config.early_stopping_patience, \n",
        "    restore_best_weights=True\n",
        ")\n",
        "model_checkpoint = ModelCheckpoint(\n",
        "    filepath=os.path.join(output_folder, 'model.h5'), \n",
        "    save_best_only=True\n",
        ")"
      ]
    },
    {
      "cell_type": "code",
      "execution_count": null,
      "metadata": {
        "colab": {
          "base_uri": "https://localhost:8080/"
        },
        "id": "UHDsKOloELVG",
        "outputId": "048a11f0-f64f-4e8f-8973-98571f9cc14b"
      },
      "outputs": [],
      "source": [
        "start = datetime.now()\n",
        "print(f'\\n----Training started at {start}----\\n')\n",
        "history = model.fit(\n",
        "    train_data, epochs=Config.epochs, validation_data=val_data, \n",
        "    callbacks=[early_stopping, model_checkpoint],\n",
        "    verbose=VERBOSE\n",
        ")\n",
        "gc.collect()\n",
        "end = datetime.now()\n",
        "print(f'\\n----Training ended at {end}, elapsed time {end-start}.')"
      ]
    },
    {
      "cell_type": "code",
      "execution_count": null,
      "metadata": {},
      "outputs": [],
      "source": [
        "print(f'Best model by validation loss saved at {model_checkpoint.filepath}.')\n",
        "print(f'Loading best model.')\n",
        "model.load_weights(model_checkpoint.filepath)"
      ]
    },
    {
      "cell_type": "markdown",
      "metadata": {
        "id": "BODQwnffELVG"
      },
      "source": [
        "## History"
      ]
    },
    {
      "cell_type": "code",
      "execution_count": null,
      "metadata": {
        "colab": {
          "base_uri": "https://localhost:8080/",
          "height": 425
        },
        "id": "4JDLrJgEELVG",
        "outputId": "ce32e695-58f9-43a0-8370-864d421d538e"
      },
      "outputs": [],
      "source": [
        "plot_train_history(\n",
        "    history, title='Multi-Step, Multi-Output Training and Validation Loss', \n",
        "    figure_path=os.path.join(output_folder, 'history.jpg'), \n",
        "    show_image=SHOW_IMAGE\n",
        ")"
      ]
    },
    {
      "cell_type": "markdown",
      "metadata": {
        "id": "0UQ_PFbQELVG"
      },
      "source": [
        "# Prediction"
      ]
    },
    {
      "cell_type": "markdown",
      "metadata": {
        "id": "ueA3SdtBELVH"
      },
      "source": [
        "## Train data"
      ]
    },
    {
      "cell_type": "code",
      "execution_count": null,
      "metadata": {
        "colab": {
          "base_uri": "https://localhost:8080/"
        },
        "id": "5bcuucBBELVH",
        "outputId": "835862cb-acae-4460-9169-3126ffe596fa"
      },
      "outputs": [],
      "source": [
        "print('\\nTrain prediction')\n",
        "train_data = cache_data(\n",
        "    x_train, y_train, batch_size=Config.batch_size, \n",
        ")\n",
        "y_pred = model.predict(train_data, verbose=VERBOSE)\n",
        "\n",
        "# upscale prediction\n",
        "y_pred = target_scaler.inverse_transform(\n",
        "    y_pred.reshape((-1, len(targets)))\n",
        ").reshape((-1, output_sequence_length, len(targets)))\n",
        "\n",
        "# upscale ground truth\n",
        "target_df = train_df[[group_id, 'Date'] + targets].copy().reset_index(drop=True)\n",
        "target_df[targets] = target_scaler.inverse_transform(target_df[targets])\n",
        "\n",
        "# align predictions with ground truth\n",
        "train_prediction_df = process_prediction(target_df, y_pred, Config)\n",
        "print(train_prediction_df.describe())"
      ]
    },
    {
      "cell_type": "code",
      "execution_count": null,
      "metadata": {
        "colab": {
          "base_uri": "https://localhost:8080/",
          "height": 479
        },
        "id": "WJNKwGRRELVH",
        "outputId": "9e126fa2-6d19-43b4-f92d-f67b99301a3d"
      },
      "outputs": [],
      "source": [
        "show_result(train_prediction_df, targets)\n",
        "for target in targets:\n",
        "    plot_predition(\n",
        "        train_prediction_df, target, show_image=SHOW_IMAGE, plot_error=True,\n",
        "        figure_path=os.path.join(output_folder, f'Summed_{target}_Train.jpg')\n",
        "    )"
      ]
    },
    {
      "cell_type": "markdown",
      "metadata": {
        "id": "oHgxG9JCELVI"
      },
      "source": [
        "## Validation data"
      ]
    },
    {
      "cell_type": "code",
      "execution_count": null,
      "metadata": {
        "colab": {
          "base_uri": "https://localhost:8080/",
          "height": 335
        },
        "id": "iSGQfl_yELVI",
        "outputId": "3241226f-507e-4558-f373-aad6289e58bf"
      },
      "outputs": [],
      "source": [
        "print('\\nValidation prediction')\n",
        "y_pred = model.predict(val_data, verbose=VERBOSE)\n",
        "\n",
        "# upscale prediction\n",
        "y_pred = target_scaler.inverse_transform(\n",
        "    y_pred.reshape((-1, len(targets)))\n",
        ").reshape((-1, output_sequence_length, len(targets)))\n",
        "\n",
        "# upscale ground truth\n",
        "target_df = val_df[[group_id, 'Date'] + targets].copy().reset_index(drop=True)\n",
        "target_df[targets] = target_scaler.inverse_transform(target_df[targets])\n",
        "\n",
        "# align predictions with ground truth\n",
        "val_prediction_df = process_prediction(target_df, y_pred, Config)\n",
        "print(val_prediction_df.describe())"
      ]
    },
    {
      "cell_type": "code",
      "execution_count": null,
      "metadata": {
        "colab": {
          "base_uri": "https://localhost:8080/",
          "height": 479
        },
        "id": "Z0aFF1pqELVI",
        "outputId": "128897be-3c44-41e6-a9b5-10f0f1e6ecdd"
      },
      "outputs": [],
      "source": [
        "show_result(val_prediction_df, targets)\n",
        "for target in targets:\n",
        "    plot_predition(\n",
        "        val_prediction_df, target, show_image=SHOW_IMAGE,\n",
        "        figure_path=os.path.join(output_folder, f'Summed_{target}_Validation.jpg')\n",
        "    )"
      ]
    },
    {
      "cell_type": "markdown",
      "metadata": {
        "id": "GPxtoBdGELVI"
      },
      "source": [
        "## Test data"
      ]
    },
    {
      "cell_type": "code",
      "execution_count": null,
      "metadata": {
        "colab": {
          "base_uri": "https://localhost:8080/",
          "height": 335
        },
        "id": "eItmvSNLELVI",
        "outputId": "df09dde6-2b61-4a95-a3d3-f28d80db0388"
      },
      "outputs": [],
      "source": [
        "print('\\nTest prediction')\n",
        "y_pred = model.predict(test_data, verbose=VERBOSE)\n",
        "\n",
        "# upscale prediction\n",
        "y_pred = target_scaler.inverse_transform(\n",
        "    y_pred.reshape((-1, len(targets)))\n",
        ").reshape((-1, output_sequence_length, len(targets)))\n",
        "\n",
        "# upscale ground truth\n",
        "target_df = test_df[[group_id, 'Date'] + targets].copy().reset_index(drop=True)\n",
        "target_df[targets] = target_scaler.inverse_transform(target_df[targets])\n",
        "\n",
        "# align predictions with ground truth\n",
        "test_prediction_df = process_prediction(target_df, y_pred, Config)\n",
        "print(test_prediction_df.describe())"
      ]
    },
    {
      "cell_type": "code",
      "execution_count": null,
      "metadata": {
        "colab": {
          "base_uri": "https://localhost:8080/",
          "height": 479
        },
        "id": "AJPonPTVELVI",
        "outputId": "57135a40-0dcf-4853-bf97-8c58630a55d5"
      },
      "outputs": [],
      "source": [
        "show_result(test_prediction_df, targets)\n",
        "for target in targets:\n",
        "    plot_predition(\n",
        "        test_prediction_df, target=target, show_image=SHOW_IMAGE\n",
        "    )"
      ]
    },
    {
      "cell_type": "markdown",
      "metadata": {
        "id": "6jj-oQOzELVJ"
      },
      "source": [
        "## Dump"
      ]
    },
    {
      "cell_type": "code",
      "execution_count": null,
      "metadata": {
        "id": "QP-eJgv1ELVJ"
      },
      "outputs": [],
      "source": [
        "train_prediction_df['Split'] = 'train'\n",
        "val_prediction_df['Split'] = 'validation'\n",
        "test_prediction_df['Split'] = 'test'\n",
        "merged_df = pd.concat([train_prediction_df, val_prediction_df, test_prediction_df], axis=0)\n",
        "merged_df.to_csv(os.path.join(output_folder, 'predictions.csv'), index=False)\n",
        "print(f'Ended at {datetime.now()}. Elapsed time {datetime.now() - start}')"
      ]
    }
  ],
  "metadata": {
    "accelerator": "GPU",
    "colab": {
      "provenance": [],
      "toc_visible": true
    },
    "gpuClass": "standard",
    "kernelspec": {
      "display_name": "Python 3.9.12 ('base')",
      "language": "python",
      "name": "python3"
    },
    "language_info": {
      "codemirror_mode": {
        "name": "ipython",
        "version": 3
      },
      "file_extension": ".py",
      "mimetype": "text/x-python",
      "name": "python",
      "nbconvert_exporter": "python",
      "pygments_lexer": "ipython3",
      "version": "3.9.15"
    },
    "orig_nbformat": 4,
    "vscode": {
      "interpreter": {
        "hash": "43fc5fbfa959c1c54ddf7d7acab30a2019a504b895513ba1ba722e7f395657c0"
      }
    }
  },
  "nbformat": 4,
  "nbformat_minor": 0
}
